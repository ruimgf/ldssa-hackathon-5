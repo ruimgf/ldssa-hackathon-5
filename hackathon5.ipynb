{
 "cells": [
  {
   "cell_type": "code",
   "execution_count": 35,
   "metadata": {},
   "outputs": [],
   "source": [
    "\n",
    "\n",
    "import os\n",
    "import warnings\n",
    "warnings.filterwarnings(\"ignore\")\n",
    "import pandas as pd\n",
    "import numpy as np\n",
    "from collections import defaultdict\n",
    "from sklearn.preprocessing import StandardScaler\n",
    "import hashlib\n",
    "import numpy as np\n",
    "\n",
    "# recommendations\n",
    "import surprise\n",
    "from surprise import Dataset, Reader\n",
    "from surprise.model_selection import train_test_split, cross_validate, GridSearchCV\n",
    "from surprise.prediction_algorithms import BaselineOnly, KNNBaseline, Prediction\n",
    "from surprise import SVD\n",
    "\n",
    "# metrics\n",
    "import ml_metrics as metrics\n",
    "\n",
    "# eda\n",
    "#from data_utils import describe, transformers\n",
    "\n",
    "# visualization\n",
    "from matplotlib import pyplot as plt\n",
    "\n"
   ]
  },
  {
   "cell_type": "markdown",
   "metadata": {},
   "source": [
    "### Explore"
   ]
  },
  {
   "cell_type": "code",
   "execution_count": 36,
   "metadata": {},
   "outputs": [
    {
     "name": "stdout",
     "output_type": "stream",
     "text": [
      "total 453776\r\n",
      "drwxr-xr-x  11 sofiacardita  staff   374B Aug 26 10:04 \u001b[1m\u001b[36m.\u001b[m\u001b[m\r\n",
      "drwxr-xr-x   9 sofiacardita  staff   306B Aug 26 10:34 \u001b[1m\u001b[36m..\u001b[m\u001b[m\r\n",
      "-rw-r--r--@  1 sofiacardita  staff   6.0K Aug 26 10:04 .DS_Store\r\n",
      "-rw-r--r--   1 sofiacardita  staff   6.6K Aug 26 09:55 example_output.csv\r\n",
      "-rw-r--r--   1 sofiacardita  staff    77M Jul 28 12:30 song_tag.csv\r\n",
      "-rw-r--r--   1 sofiacardita  staff    19M Aug 26 09:55 song_tag.zip\r\n",
      "-rw-r--r--   1 sofiacardita  staff   9.5M Aug 26 09:55 songs.txt\r\n",
      "-rw-r--r--   1 sofiacardita  staff    12M Aug 26 09:55 tags.csv\r\n",
      "-rw-r--r--   1 sofiacardita  staff   400K Aug 26 09:55 test_users.csv\r\n",
      "-rw-r--r--   1 sofiacardita  staff    86M Mar 11  2012 train_play_counts.txt\r\n",
      "-rw-r--r--   1 sofiacardita  staff    18M Aug 26 09:55 train_play_counts.zip\r\n"
     ]
    }
   ],
   "source": [
    "!ls -lah data/"
   ]
  },
  {
   "cell_type": "code",
   "execution_count": 3,
   "metadata": {},
   "outputs": [
    {
     "name": "stdout",
     "output_type": "stream",
     "text": [
      "fd50c4007b68a3737fe052d5a4f78ce8aa117f3d\tSOBONKR12A58A7A7E0\t1\r\n",
      "fd50c4007b68a3737fe052d5a4f78ce8aa117f3d\tSOEGIYH12A6D4FC0E3\t1\r\n",
      "fd50c4007b68a3737fe052d5a4f78ce8aa117f3d\tSOFLJQZ12A6D4FADA6\t1\r\n",
      "fd50c4007b68a3737fe052d5a4f78ce8aa117f3d\tSOHTKMO12AB01843B0\t1\r\n",
      "fd50c4007b68a3737fe052d5a4f78ce8aa117f3d\tSODQZCY12A6D4F9D11\t1\r\n",
      "fd50c4007b68a3737fe052d5a4f78ce8aa117f3d\tSOXLOQG12AF72A2D55\t1\r\n",
      "d7083f5e1d50c264277d624340edaaf3dc16095b\tSOUVUHC12A67020E3B\t1\r\n",
      "d7083f5e1d50c264277d624340edaaf3dc16095b\tSOUQERE12A58A75633\t1\r\n",
      "d7083f5e1d50c264277d624340edaaf3dc16095b\tSOIPJAX12A8C141A2D\t1\r\n",
      "d7083f5e1d50c264277d624340edaaf3dc16095b\tSOEFCDJ12AB0185FA0\t2\r\n"
     ]
    }
   ],
   "source": [
    "!head data/train_play_counts.txt"
   ]
  },
  {
   "cell_type": "code",
   "execution_count": 4,
   "metadata": {},
   "outputs": [
    {
     "name": "stdout",
     "output_type": "stream",
     "text": [
      "SOAAADD12AB018A9DD 1\r\n",
      "SOAAADE12A6D4F80CC 2\r\n",
      "SOAAADF12A8C13DF62 3\r\n",
      "SOAAADZ12A8C1334FB 4\r\n",
      "SOAAAFI12A6D4F9C66 5\r\n",
      "SOAAAGK12AB0189572 6\r\n",
      "SOAAAGN12AB017D672 7\r\n",
      "SOAAAGO12A67AE0A0E 8\r\n",
      "SOAAAGP12A6D4F7D1C 9\r\n",
      "SOAAAGQ12A8C1420C8 10\r\n"
     ]
    }
   ],
   "source": [
    "!head data/songs.txt"
   ]
  },
  {
   "cell_type": "code",
   "execution_count": 42,
   "metadata": {},
   "outputs": [],
   "source": [
    "def make_ratings(path):\n",
    "\n",
    "    users = make_users()\n",
    "    items = make_items()\n",
    "dd\n",
    "    users_ = read_array_from_csv(path, 'object', 0, delimdditer=\"\\t\")\n",
    "    items_ = read_array_from_csv(path, 'object', 1)\n",
    "\n",
    "    rows = make_rows(users, users_)\n",
    "    cols = make_cols(items, items_)\n",
    "\n",
    "    nrows = users.shape[0]\n",
    "    ncols = items.shape[0]\n",
    "\n",
    "    shape = (nrows, ncols)\n",
    "\n",
    "    data = np.ones(rows.size)\n",
    "\n",
    "    return coo_matrix((data, (rows, cols)), shape=shape)\n",
    "\n",
    "\n",
    "def make_users():\n",
    "    path = os.path.join('data', 'train_play_counts.txt')\n",
    "    users = read_array_from_csv(path, 'object', 0, delimiter=\"\\t\")\n",
    "    return users[users.argsort()]\n",
    "\n",
    "\n",
    "def make_items():\n",
    "    path = os.path.join('data', 'songs.txt')\n",
    "    items = read_array_from_csv(path, 'object', 0, delimiter=\" \")\n",
    "    return items[items.argsort()]\n",
    "\n",
    "\n",
    "def read_array_from_csv(path, dtype, column, delimiter=\" \"):\n",
    "    return np.genfromtxt(path, dtype=dtype, skip_header=False, usecols=[column],\n",
    "                         delimiter=delimiter)\n",
    "\n",
    "def make_rows(users, users_):\n",
    "    rows = [np.argwhere(users == u)[0, 0] for u in users_]\n",
    "    return np.array(rows)\n",
    "\n",
    "\n",
    "def make_cols(items, items_):\n",
    "    cols = [np.argwhere(items == i)[0, 0] for i in items_]\n",
    "    return np.array(cols)"
   ]
  },
  {
   "cell_type": "code",
   "execution_count": null,
   "metadata": {},
   "outputs": [],
   "source": [
    "R = make_ratings(\"data/train_play_counts.txt\")"
   ]
  },
  {
   "cell_type": "code",
   "execution_count": null,
   "metadata": {},
   "outputs": [],
   "source": []
  }
 ],
 "metadata": {
  "kernelspec": {
   "display_name": "Python 3",
   "language": "python",
   "name": "python3"
  },
  "language_info": {
   "codemirror_mode": {
    "name": "ipython",
    "version": 3
   },
   "file_extension": ".py",
   "mimetype": "text/x-python",
   "name": "python",
   "nbconvert_exporter": "python",
   "pygments_lexer": "ipython3",
   "version": "3.6.5"
  }
 },
 "nbformat": 4,
 "nbformat_minor": 2
}
